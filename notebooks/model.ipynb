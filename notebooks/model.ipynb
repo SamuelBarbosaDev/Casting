{
 "cells": [
  {
   "cell_type": "code",
   "execution_count": 1,
   "metadata": {},
   "outputs": [],
   "source": [
    "# Data wrangling:\n",
    "import pandas as pd\n",
    "\n",
    "# Pipelines:\n",
    "from sklearn.pipeline import (\n",
    "    Pipeline,\n",
    "    make_pipeline\n",
    ")\n",
    "from sklearn.compose import (\n",
    "    make_column_selector as selector,\n",
    "    ColumnTransformer,\n",
    ")\n",
    "\n",
    "# Seleção e validação dos modelos:\n",
    "from sklearn import metrics\n",
    "from sklearn.model_selection import (\n",
    "    train_test_split,\n",
    "    GridSearchCV\n",
    ")\n",
    "\n",
    "# Pre-processing:\n",
    "from sklearn.impute import SimpleImputer\n",
    "from sklearn.preprocessing import (\n",
    "    StandardScaler,\n",
    "    MinMaxScaler,\n",
    "    OneHotEncoder,\n",
    ")\n",
    "\n",
    "# Modelos:\n",
    "from sklearn.tree import DecisionTreeRegressor\n",
    "\n",
    "# Deployment:\n",
    "import pickle\n",
    "\n",
    "# Config:\n",
    "from sklearn import set_config\n",
    "set_config(transform_output='pandas')"
   ]
  },
  {
   "cell_type": "markdown",
   "metadata": {},
   "source": [
    "## DataFrame:"
   ]
  },
  {
   "cell_type": "code",
   "execution_count": 2,
   "metadata": {},
   "outputs": [],
   "source": [
    "path = r'../data/Dados Solução Casting.xlsx'\n",
    "df = pd.read_excel(\n",
    "    io=path\n",
    ")"
   ]
  },
  {
   "cell_type": "code",
   "execution_count": 3,
   "metadata": {},
   "outputs": [
    {
     "data": {
      "text/html": [
       "<div>\n",
       "<style scoped>\n",
       "    .dataframe tbody tr th:only-of-type {\n",
       "        vertical-align: middle;\n",
       "    }\n",
       "\n",
       "    .dataframe tbody tr th {\n",
       "        vertical-align: top;\n",
       "    }\n",
       "\n",
       "    .dataframe thead th {\n",
       "        text-align: right;\n",
       "    }\n",
       "</style>\n",
       "<table border=\"1\" class=\"dataframe\">\n",
       "  <thead>\n",
       "    <tr style=\"text-align: right;\">\n",
       "      <th></th>\n",
       "      <th>VUF_CODIGO</th>\n",
       "      <th>VUF_CODIGO_BOLETO</th>\n",
       "      <th>UND_CODIGO</th>\n",
       "      <th>FUN_CODIGO</th>\n",
       "      <th>VUF_DT</th>\n",
       "      <th>PRO_CODIGO</th>\n",
       "      <th>CAT_CODIGO</th>\n",
       "      <th>VUF_QTBOLETO</th>\n",
       "      <th>VUF_QTPRODUTO</th>\n",
       "      <th>VUF_VLRBRUTOVENDA</th>\n",
       "      <th>VUF_VLRDESCONTO</th>\n",
       "      <th>VUF_VLRLIQFINAL</th>\n",
       "      <th>VUF_VLRTROCA</th>\n",
       "      <th>CLV_BANCO</th>\n",
       "    </tr>\n",
       "  </thead>\n",
       "  <tbody>\n",
       "    <tr>\n",
       "      <th>0</th>\n",
       "      <td>B28DDB4B-8A49-4658-8539-5DA3F20AA39F</td>\n",
       "      <td>1000</td>\n",
       "      <td>D4758B39-E7EA-4D97-B6B1-6236CE2C05A2</td>\n",
       "      <td>BBEF56E1-66E0-47A6-95AC-5479DE79577B</td>\n",
       "      <td>2022-06-18</td>\n",
       "      <td>6768760F-758A-4B31-AE33-CEB127A956CB</td>\n",
       "      <td>7B6AD9C1-F745-4137-B62D-4A67E865E781</td>\n",
       "      <td>1</td>\n",
       "      <td>1.0</td>\n",
       "      <td>15.0</td>\n",
       "      <td>0.0</td>\n",
       "      <td>15.0</td>\n",
       "      <td>0.0</td>\n",
       "      <td>CASTING_DB108</td>\n",
       "    </tr>\n",
       "    <tr>\n",
       "      <th>1</th>\n",
       "      <td>8E22E8FC-65DC-44BA-AFFA-4D661108F0B4</td>\n",
       "      <td>1001</td>\n",
       "      <td>D4758B39-E7EA-4D97-B6B1-6236CE2C05A2</td>\n",
       "      <td>AF858E1C-9C72-4B63-AC51-A8185ECCCC35</td>\n",
       "      <td>2022-06-18</td>\n",
       "      <td>0136ECF4-9F4D-4DBE-A78D-B2ED565CE60C</td>\n",
       "      <td>7B6AD9C1-F745-4137-B62D-4A67E865E781</td>\n",
       "      <td>1</td>\n",
       "      <td>1.0</td>\n",
       "      <td>32.0</td>\n",
       "      <td>0.0</td>\n",
       "      <td>32.0</td>\n",
       "      <td>0.0</td>\n",
       "      <td>CASTING_DB108</td>\n",
       "    </tr>\n",
       "    <tr>\n",
       "      <th>2</th>\n",
       "      <td>E36DEDC5-78CB-4452-9E04-AD174E32747C</td>\n",
       "      <td>1002</td>\n",
       "      <td>D4758B39-E7EA-4D97-B6B1-6236CE2C05A2</td>\n",
       "      <td>BBEF56E1-66E0-47A6-95AC-5479DE79577B</td>\n",
       "      <td>2022-06-20</td>\n",
       "      <td>B0974005-D231-438C-A0C1-F6A211B00697</td>\n",
       "      <td>7B6AD9C1-F745-4137-B62D-4A67E865E781</td>\n",
       "      <td>1</td>\n",
       "      <td>1.0</td>\n",
       "      <td>15.0</td>\n",
       "      <td>0.0</td>\n",
       "      <td>15.0</td>\n",
       "      <td>0.0</td>\n",
       "      <td>CASTING_DB108</td>\n",
       "    </tr>\n",
       "  </tbody>\n",
       "</table>\n",
       "</div>"
      ],
      "text/plain": [
       "                             VUF_CODIGO VUF_CODIGO_BOLETO  \\\n",
       "0  B28DDB4B-8A49-4658-8539-5DA3F20AA39F              1000   \n",
       "1  8E22E8FC-65DC-44BA-AFFA-4D661108F0B4              1001   \n",
       "2  E36DEDC5-78CB-4452-9E04-AD174E32747C              1002   \n",
       "\n",
       "                             UND_CODIGO                            FUN_CODIGO  \\\n",
       "0  D4758B39-E7EA-4D97-B6B1-6236CE2C05A2  BBEF56E1-66E0-47A6-95AC-5479DE79577B   \n",
       "1  D4758B39-E7EA-4D97-B6B1-6236CE2C05A2  AF858E1C-9C72-4B63-AC51-A8185ECCCC35   \n",
       "2  D4758B39-E7EA-4D97-B6B1-6236CE2C05A2  BBEF56E1-66E0-47A6-95AC-5479DE79577B   \n",
       "\n",
       "       VUF_DT                            PRO_CODIGO  \\\n",
       "0  2022-06-18  6768760F-758A-4B31-AE33-CEB127A956CB   \n",
       "1  2022-06-18  0136ECF4-9F4D-4DBE-A78D-B2ED565CE60C   \n",
       "2  2022-06-20  B0974005-D231-438C-A0C1-F6A211B00697   \n",
       "\n",
       "                             CAT_CODIGO  VUF_QTBOLETO  VUF_QTPRODUTO  \\\n",
       "0  7B6AD9C1-F745-4137-B62D-4A67E865E781             1            1.0   \n",
       "1  7B6AD9C1-F745-4137-B62D-4A67E865E781             1            1.0   \n",
       "2  7B6AD9C1-F745-4137-B62D-4A67E865E781             1            1.0   \n",
       "\n",
       "   VUF_VLRBRUTOVENDA  VUF_VLRDESCONTO  VUF_VLRLIQFINAL  VUF_VLRTROCA  \\\n",
       "0               15.0              0.0             15.0           0.0   \n",
       "1               32.0              0.0             32.0           0.0   \n",
       "2               15.0              0.0             15.0           0.0   \n",
       "\n",
       "       CLV_BANCO  \n",
       "0  CASTING_DB108  \n",
       "1  CASTING_DB108  \n",
       "2  CASTING_DB108  "
      ]
     },
     "metadata": {},
     "output_type": "display_data"
    }
   ],
   "source": [
    "display(df.head(3))"
   ]
  },
  {
   "cell_type": "markdown",
   "metadata": {},
   "source": [
    "## Código:"
   ]
  },
  {
   "cell_type": "code",
   "execution_count": 4,
   "metadata": {},
   "outputs": [],
   "source": [
    "class Casting():\n",
    "    pass\n",
    "\n",
    "if __name__ == '__main__':\n",
    "    casting = Casting()"
   ]
  },
  {
   "cell_type": "markdown",
   "metadata": {},
   "source": [
    "## Model:"
   ]
  },
  {
   "cell_type": "code",
   "execution_count": 5,
   "metadata": {},
   "outputs": [
    {
     "data": {
      "text/plain": [
       "['VUF_CODIGO',\n",
       " 'VUF_CODIGO_BOLETO',\n",
       " 'UND_CODIGO',\n",
       " 'FUN_CODIGO',\n",
       " 'VUF_DT',\n",
       " 'PRO_CODIGO',\n",
       " 'CAT_CODIGO',\n",
       " 'VUF_QTBOLETO',\n",
       " 'VUF_QTPRODUTO',\n",
       " 'VUF_VLRBRUTOVENDA',\n",
       " 'VUF_VLRDESCONTO',\n",
       " 'VUF_VLRLIQFINAL',\n",
       " 'VUF_VLRTROCA',\n",
       " 'CLV_BANCO']"
      ]
     },
     "execution_count": 5,
     "metadata": {},
     "output_type": "execute_result"
    }
   ],
   "source": [
    "list(df.columns)"
   ]
  },
  {
   "cell_type": "markdown",
   "metadata": {},
   "source": [
    "### Variáveis:"
   ]
  },
  {
   "cell_type": "code",
   "execution_count": 6,
   "metadata": {},
   "outputs": [],
   "source": [
    "NUMERICAL_FEATURES = [\n",
    "    'VUF_QTBOLETO',\n",
    "    'VUF_QTPRODUTO',\n",
    "    'VUF_VLRBRUTOVENDA',\n",
    "    'VUF_VLRDESCONTO',\n",
    "    'VUF_VLRTROCA',\n",
    "]\n",
    "CATEGORICAL_FEATURES = [\n",
    "    # 'VUF_CODIGO',\n",
    "    # 'VUF_CODIGO_BOLETO',\n",
    "    # 'UND_CODIGO',\n",
    "    # 'FUN_CODIGO',\n",
    "    # 'VUF_DT',\n",
    "    # 'PRO_CODIGO',\n",
    "    'CAT_CODIGO',\n",
    "    'CLV_BANCO'\n",
    "]\n",
    "FEATURES = NUMERICAL_FEATURES + CATEGORICAL_FEATURES\n",
    "TARGET = 'VUF_VLRLIQFINAL'"
   ]
  },
  {
   "cell_type": "markdown",
   "metadata": {},
   "source": [
    "### Seed:"
   ]
  },
  {
   "cell_type": "code",
   "execution_count": 7,
   "metadata": {},
   "outputs": [],
   "source": [
    "seed = 69"
   ]
  },
  {
   "cell_type": "markdown",
   "metadata": {},
   "source": [
    "### Separating x and y:"
   ]
  },
  {
   "cell_type": "code",
   "execution_count": 8,
   "metadata": {},
   "outputs": [],
   "source": [
    "x = df[FEATURES]\n",
    "y = df[TARGET]"
   ]
  },
  {
   "cell_type": "markdown",
   "metadata": {},
   "source": [
    "### Train-test Split:"
   ]
  },
  {
   "cell_type": "code",
   "execution_count": 9,
   "metadata": {},
   "outputs": [],
   "source": [
    "x_train, x_test, y_train, y_test = train_test_split(\n",
    "    x,\n",
    "    y,\n",
    "    random_state=seed\n",
    ")"
   ]
  },
  {
   "cell_type": "markdown",
   "metadata": {},
   "source": [
    "Tratando Nulos:"
   ]
  },
  {
   "cell_type": "code",
   "execution_count": 10,
   "metadata": {},
   "outputs": [],
   "source": [
    "numeric_processor = make_pipeline(\n",
    "    SimpleImputer(strategy='median'),\n",
    "    StandardScaler(), \n",
    ")\n",
    "categorical_processor  = make_pipeline(\n",
    "    SimpleImputer(strategy='most_frequent'),\n",
    "    OneHotEncoder(drop='if_binary', handle_unknown='ignore', sparse_output=False),\n",
    ")"
   ]
  },
  {
   "cell_type": "markdown",
   "metadata": {},
   "source": [
    "### Pipeline de pre-processig:"
   ]
  },
  {
   "cell_type": "code",
   "execution_count": 11,
   "metadata": {},
   "outputs": [],
   "source": [
    "pre_processing = ColumnTransformer([\n",
    "    (\n",
    "        'one', \n",
    "        categorical_processor,\n",
    "        CATEGORICAL_FEATURES\n",
    "    ),\n",
    "    (\n",
    "        'Scaler', \n",
    "        numeric_processor, \n",
    "        NUMERICAL_FEATURES\n",
    "    ),\n",
    "])"
   ]
  },
  {
   "cell_type": "markdown",
   "metadata": {},
   "source": [
    "### Pipeline:"
   ]
  },
  {
   "cell_type": "code",
   "execution_count": 12,
   "metadata": {},
   "outputs": [],
   "source": [
    "pipeline = Pipeline([\n",
    "    ('pre_processing', pre_processing),\n",
    "    ('model', DecisionTreeRegressor(max_depth=3)),\n",
    "])"
   ]
  },
  {
   "cell_type": "code",
   "execution_count": 13,
   "metadata": {},
   "outputs": [
    {
     "data": {
      "text/html": [
       "<style>#sk-container-id-1 {color: black;}#sk-container-id-1 pre{padding: 0;}#sk-container-id-1 div.sk-toggleable {background-color: white;}#sk-container-id-1 label.sk-toggleable__label {cursor: pointer;display: block;width: 100%;margin-bottom: 0;padding: 0.3em;box-sizing: border-box;text-align: center;}#sk-container-id-1 label.sk-toggleable__label-arrow:before {content: \"▸\";float: left;margin-right: 0.25em;color: #696969;}#sk-container-id-1 label.sk-toggleable__label-arrow:hover:before {color: black;}#sk-container-id-1 div.sk-estimator:hover label.sk-toggleable__label-arrow:before {color: black;}#sk-container-id-1 div.sk-toggleable__content {max-height: 0;max-width: 0;overflow: hidden;text-align: left;background-color: #f0f8ff;}#sk-container-id-1 div.sk-toggleable__content pre {margin: 0.2em;color: black;border-radius: 0.25em;background-color: #f0f8ff;}#sk-container-id-1 input.sk-toggleable__control:checked~div.sk-toggleable__content {max-height: 200px;max-width: 100%;overflow: auto;}#sk-container-id-1 input.sk-toggleable__control:checked~label.sk-toggleable__label-arrow:before {content: \"▾\";}#sk-container-id-1 div.sk-estimator input.sk-toggleable__control:checked~label.sk-toggleable__label {background-color: #d4ebff;}#sk-container-id-1 div.sk-label input.sk-toggleable__control:checked~label.sk-toggleable__label {background-color: #d4ebff;}#sk-container-id-1 input.sk-hidden--visually {border: 0;clip: rect(1px 1px 1px 1px);clip: rect(1px, 1px, 1px, 1px);height: 1px;margin: -1px;overflow: hidden;padding: 0;position: absolute;width: 1px;}#sk-container-id-1 div.sk-estimator {font-family: monospace;background-color: #f0f8ff;border: 1px dotted black;border-radius: 0.25em;box-sizing: border-box;margin-bottom: 0.5em;}#sk-container-id-1 div.sk-estimator:hover {background-color: #d4ebff;}#sk-container-id-1 div.sk-parallel-item::after {content: \"\";width: 100%;border-bottom: 1px solid gray;flex-grow: 1;}#sk-container-id-1 div.sk-label:hover label.sk-toggleable__label {background-color: #d4ebff;}#sk-container-id-1 div.sk-serial::before {content: \"\";position: absolute;border-left: 1px solid gray;box-sizing: border-box;top: 0;bottom: 0;left: 50%;z-index: 0;}#sk-container-id-1 div.sk-serial {display: flex;flex-direction: column;align-items: center;background-color: white;padding-right: 0.2em;padding-left: 0.2em;position: relative;}#sk-container-id-1 div.sk-item {position: relative;z-index: 1;}#sk-container-id-1 div.sk-parallel {display: flex;align-items: stretch;justify-content: center;background-color: white;position: relative;}#sk-container-id-1 div.sk-item::before, #sk-container-id-1 div.sk-parallel-item::before {content: \"\";position: absolute;border-left: 1px solid gray;box-sizing: border-box;top: 0;bottom: 0;left: 50%;z-index: -1;}#sk-container-id-1 div.sk-parallel-item {display: flex;flex-direction: column;z-index: 1;position: relative;background-color: white;}#sk-container-id-1 div.sk-parallel-item:first-child::after {align-self: flex-end;width: 50%;}#sk-container-id-1 div.sk-parallel-item:last-child::after {align-self: flex-start;width: 50%;}#sk-container-id-1 div.sk-parallel-item:only-child::after {width: 0;}#sk-container-id-1 div.sk-dashed-wrapped {border: 1px dashed gray;margin: 0 0.4em 0.5em 0.4em;box-sizing: border-box;padding-bottom: 0.4em;background-color: white;}#sk-container-id-1 div.sk-label label {font-family: monospace;font-weight: bold;display: inline-block;line-height: 1.2em;}#sk-container-id-1 div.sk-label-container {text-align: center;}#sk-container-id-1 div.sk-container {/* jupyter's `normalize.less` sets `[hidden] { display: none; }` but bootstrap.min.css set `[hidden] { display: none !important; }` so we also need the `!important` here to be able to override the default hidden behavior on the sphinx rendered scikit-learn.org. See: https://github.com/scikit-learn/scikit-learn/issues/21755 */display: inline-block !important;position: relative;}#sk-container-id-1 div.sk-text-repr-fallback {display: none;}</style><div id=\"sk-container-id-1\" class=\"sk-top-container\"><div class=\"sk-text-repr-fallback\"><pre>Pipeline(steps=[(&#x27;pre_processing&#x27;,\n",
       "                 ColumnTransformer(transformers=[(&#x27;one&#x27;,\n",
       "                                                  Pipeline(steps=[(&#x27;simpleimputer&#x27;,\n",
       "                                                                   SimpleImputer(strategy=&#x27;most_frequent&#x27;)),\n",
       "                                                                  (&#x27;onehotencoder&#x27;,\n",
       "                                                                   OneHotEncoder(drop=&#x27;if_binary&#x27;,\n",
       "                                                                                 handle_unknown=&#x27;ignore&#x27;,\n",
       "                                                                                 sparse_output=False))]),\n",
       "                                                  [&#x27;CAT_CODIGO&#x27;, &#x27;CLV_BANCO&#x27;]),\n",
       "                                                 (&#x27;Scaler&#x27;,\n",
       "                                                  Pipeline(steps=[(&#x27;simpleimputer&#x27;,\n",
       "                                                                   SimpleImputer(strategy=&#x27;median&#x27;)),\n",
       "                                                                  (&#x27;standardscaler&#x27;,\n",
       "                                                                   StandardScaler())]),\n",
       "                                                  [&#x27;VUF_QTBOLETO&#x27;,\n",
       "                                                   &#x27;VUF_QTPRODUTO&#x27;,\n",
       "                                                   &#x27;VUF_VLRBRUTOVENDA&#x27;,\n",
       "                                                   &#x27;VUF_VLRDESCONTO&#x27;,\n",
       "                                                   &#x27;VUF_VLRTROCA&#x27;])])),\n",
       "                (&#x27;model&#x27;, DecisionTreeRegressor(max_depth=3))])</pre><b>In a Jupyter environment, please rerun this cell to show the HTML representation or trust the notebook. <br />On GitHub, the HTML representation is unable to render, please try loading this page with nbviewer.org.</b></div><div class=\"sk-container\" hidden><div class=\"sk-item sk-dashed-wrapped\"><div class=\"sk-label-container\"><div class=\"sk-label sk-toggleable\"><input class=\"sk-toggleable__control sk-hidden--visually\" id=\"sk-estimator-id-1\" type=\"checkbox\" ><label for=\"sk-estimator-id-1\" class=\"sk-toggleable__label sk-toggleable__label-arrow\">Pipeline</label><div class=\"sk-toggleable__content\"><pre>Pipeline(steps=[(&#x27;pre_processing&#x27;,\n",
       "                 ColumnTransformer(transformers=[(&#x27;one&#x27;,\n",
       "                                                  Pipeline(steps=[(&#x27;simpleimputer&#x27;,\n",
       "                                                                   SimpleImputer(strategy=&#x27;most_frequent&#x27;)),\n",
       "                                                                  (&#x27;onehotencoder&#x27;,\n",
       "                                                                   OneHotEncoder(drop=&#x27;if_binary&#x27;,\n",
       "                                                                                 handle_unknown=&#x27;ignore&#x27;,\n",
       "                                                                                 sparse_output=False))]),\n",
       "                                                  [&#x27;CAT_CODIGO&#x27;, &#x27;CLV_BANCO&#x27;]),\n",
       "                                                 (&#x27;Scaler&#x27;,\n",
       "                                                  Pipeline(steps=[(&#x27;simpleimputer&#x27;,\n",
       "                                                                   SimpleImputer(strategy=&#x27;median&#x27;)),\n",
       "                                                                  (&#x27;standardscaler&#x27;,\n",
       "                                                                   StandardScaler())]),\n",
       "                                                  [&#x27;VUF_QTBOLETO&#x27;,\n",
       "                                                   &#x27;VUF_QTPRODUTO&#x27;,\n",
       "                                                   &#x27;VUF_VLRBRUTOVENDA&#x27;,\n",
       "                                                   &#x27;VUF_VLRDESCONTO&#x27;,\n",
       "                                                   &#x27;VUF_VLRTROCA&#x27;])])),\n",
       "                (&#x27;model&#x27;, DecisionTreeRegressor(max_depth=3))])</pre></div></div></div><div class=\"sk-serial\"><div class=\"sk-item sk-dashed-wrapped\"><div class=\"sk-label-container\"><div class=\"sk-label sk-toggleable\"><input class=\"sk-toggleable__control sk-hidden--visually\" id=\"sk-estimator-id-2\" type=\"checkbox\" ><label for=\"sk-estimator-id-2\" class=\"sk-toggleable__label sk-toggleable__label-arrow\">pre_processing: ColumnTransformer</label><div class=\"sk-toggleable__content\"><pre>ColumnTransformer(transformers=[(&#x27;one&#x27;,\n",
       "                                 Pipeline(steps=[(&#x27;simpleimputer&#x27;,\n",
       "                                                  SimpleImputer(strategy=&#x27;most_frequent&#x27;)),\n",
       "                                                 (&#x27;onehotencoder&#x27;,\n",
       "                                                  OneHotEncoder(drop=&#x27;if_binary&#x27;,\n",
       "                                                                handle_unknown=&#x27;ignore&#x27;,\n",
       "                                                                sparse_output=False))]),\n",
       "                                 [&#x27;CAT_CODIGO&#x27;, &#x27;CLV_BANCO&#x27;]),\n",
       "                                (&#x27;Scaler&#x27;,\n",
       "                                 Pipeline(steps=[(&#x27;simpleimputer&#x27;,\n",
       "                                                  SimpleImputer(strategy=&#x27;median&#x27;)),\n",
       "                                                 (&#x27;standardscaler&#x27;,\n",
       "                                                  StandardScaler())]),\n",
       "                                 [&#x27;VUF_QTBOLETO&#x27;, &#x27;VUF_QTPRODUTO&#x27;,\n",
       "                                  &#x27;VUF_VLRBRUTOVENDA&#x27;, &#x27;VUF_VLRDESCONTO&#x27;,\n",
       "                                  &#x27;VUF_VLRTROCA&#x27;])])</pre></div></div></div><div class=\"sk-parallel\"><div class=\"sk-parallel-item\"><div class=\"sk-item\"><div class=\"sk-label-container\"><div class=\"sk-label sk-toggleable\"><input class=\"sk-toggleable__control sk-hidden--visually\" id=\"sk-estimator-id-3\" type=\"checkbox\" ><label for=\"sk-estimator-id-3\" class=\"sk-toggleable__label sk-toggleable__label-arrow\">one</label><div class=\"sk-toggleable__content\"><pre>[&#x27;CAT_CODIGO&#x27;, &#x27;CLV_BANCO&#x27;]</pre></div></div></div><div class=\"sk-serial\"><div class=\"sk-item\"><div class=\"sk-serial\"><div class=\"sk-item\"><div class=\"sk-estimator sk-toggleable\"><input class=\"sk-toggleable__control sk-hidden--visually\" id=\"sk-estimator-id-4\" type=\"checkbox\" ><label for=\"sk-estimator-id-4\" class=\"sk-toggleable__label sk-toggleable__label-arrow\">SimpleImputer</label><div class=\"sk-toggleable__content\"><pre>SimpleImputer(strategy=&#x27;most_frequent&#x27;)</pre></div></div></div><div class=\"sk-item\"><div class=\"sk-estimator sk-toggleable\"><input class=\"sk-toggleable__control sk-hidden--visually\" id=\"sk-estimator-id-5\" type=\"checkbox\" ><label for=\"sk-estimator-id-5\" class=\"sk-toggleable__label sk-toggleable__label-arrow\">OneHotEncoder</label><div class=\"sk-toggleable__content\"><pre>OneHotEncoder(drop=&#x27;if_binary&#x27;, handle_unknown=&#x27;ignore&#x27;, sparse_output=False)</pre></div></div></div></div></div></div></div></div><div class=\"sk-parallel-item\"><div class=\"sk-item\"><div class=\"sk-label-container\"><div class=\"sk-label sk-toggleable\"><input class=\"sk-toggleable__control sk-hidden--visually\" id=\"sk-estimator-id-6\" type=\"checkbox\" ><label for=\"sk-estimator-id-6\" class=\"sk-toggleable__label sk-toggleable__label-arrow\">Scaler</label><div class=\"sk-toggleable__content\"><pre>[&#x27;VUF_QTBOLETO&#x27;, &#x27;VUF_QTPRODUTO&#x27;, &#x27;VUF_VLRBRUTOVENDA&#x27;, &#x27;VUF_VLRDESCONTO&#x27;, &#x27;VUF_VLRTROCA&#x27;]</pre></div></div></div><div class=\"sk-serial\"><div class=\"sk-item\"><div class=\"sk-serial\"><div class=\"sk-item\"><div class=\"sk-estimator sk-toggleable\"><input class=\"sk-toggleable__control sk-hidden--visually\" id=\"sk-estimator-id-7\" type=\"checkbox\" ><label for=\"sk-estimator-id-7\" class=\"sk-toggleable__label sk-toggleable__label-arrow\">SimpleImputer</label><div class=\"sk-toggleable__content\"><pre>SimpleImputer(strategy=&#x27;median&#x27;)</pre></div></div></div><div class=\"sk-item\"><div class=\"sk-estimator sk-toggleable\"><input class=\"sk-toggleable__control sk-hidden--visually\" id=\"sk-estimator-id-8\" type=\"checkbox\" ><label for=\"sk-estimator-id-8\" class=\"sk-toggleable__label sk-toggleable__label-arrow\">StandardScaler</label><div class=\"sk-toggleable__content\"><pre>StandardScaler()</pre></div></div></div></div></div></div></div></div></div></div><div class=\"sk-item\"><div class=\"sk-estimator sk-toggleable\"><input class=\"sk-toggleable__control sk-hidden--visually\" id=\"sk-estimator-id-9\" type=\"checkbox\" ><label for=\"sk-estimator-id-9\" class=\"sk-toggleable__label sk-toggleable__label-arrow\">DecisionTreeRegressor</label><div class=\"sk-toggleable__content\"><pre>DecisionTreeRegressor(max_depth=3)</pre></div></div></div></div></div></div></div>"
      ],
      "text/plain": [
       "Pipeline(steps=[('pre_processing',\n",
       "                 ColumnTransformer(transformers=[('one',\n",
       "                                                  Pipeline(steps=[('simpleimputer',\n",
       "                                                                   SimpleImputer(strategy='most_frequent')),\n",
       "                                                                  ('onehotencoder',\n",
       "                                                                   OneHotEncoder(drop='if_binary',\n",
       "                                                                                 handle_unknown='ignore',\n",
       "                                                                                 sparse_output=False))]),\n",
       "                                                  ['CAT_CODIGO', 'CLV_BANCO']),\n",
       "                                                 ('Scaler',\n",
       "                                                  Pipeline(steps=[('simpleimputer',\n",
       "                                                                   SimpleImputer(strategy='median')),\n",
       "                                                                  ('standardscaler',\n",
       "                                                                   StandardScaler())]),\n",
       "                                                  ['VUF_QTBOLETO',\n",
       "                                                   'VUF_QTPRODUTO',\n",
       "                                                   'VUF_VLRBRUTOVENDA',\n",
       "                                                   'VUF_VLRDESCONTO',\n",
       "                                                   'VUF_VLRTROCA'])])),\n",
       "                ('model', DecisionTreeRegressor(max_depth=3))])"
      ]
     },
     "execution_count": 13,
     "metadata": {},
     "output_type": "execute_result"
    }
   ],
   "source": [
    "pipeline.fit(x_train, y_train)"
   ]
  },
  {
   "cell_type": "markdown",
   "metadata": {},
   "source": [
    "### Deployment:"
   ]
  },
  {
   "cell_type": "code",
   "execution_count": 14,
   "metadata": {},
   "outputs": [],
   "source": [
    "path = r'../models/model.pkl' \n",
    "\n",
    "with open(path, 'wb') as file:\n",
    "    pickle.dump(pipeline, file)"
   ]
  },
  {
   "cell_type": "markdown",
   "metadata": {},
   "source": [
    "O código acima não está pronto, o que você ver acima é apenas um esqueleto, e necessário antes fazer a ter um bom entendimento do negócio, um bom entendimento dos dados, a preparação dos dados e por fim começamos a criar o modelo, além disso, é necessário testamos vários modelos para ver qual desempenha melhor no cenário que temos, e após isso otimizamos o modelo.\n",
    "\n",
    "Fique a vontade para fazer um `pull request` para adicionar melhorias ao projeto.\n",
    "\n",
    ":)"
   ]
  }
 ],
 "metadata": {
  "kernelspec": {
   "display_name": ".venv",
   "language": "python",
   "name": "python3"
  },
  "language_info": {
   "codemirror_mode": {
    "name": "ipython",
    "version": 3
   },
   "file_extension": ".py",
   "mimetype": "text/x-python",
   "name": "python",
   "nbconvert_exporter": "python",
   "pygments_lexer": "ipython3",
   "version": "3.10.12"
  }
 },
 "nbformat": 4,
 "nbformat_minor": 2
}
