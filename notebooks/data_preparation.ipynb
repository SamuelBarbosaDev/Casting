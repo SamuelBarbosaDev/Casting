{
 "cells": [
  {
   "cell_type": "code",
   "execution_count": 30,
   "metadata": {},
   "outputs": [],
   "source": [
    "import pandas as pd"
   ]
  },
  {
   "cell_type": "markdown",
   "metadata": {},
   "source": [
    "## Dataframe:"
   ]
  },
  {
   "cell_type": "code",
   "execution_count": 31,
   "metadata": {},
   "outputs": [],
   "source": [
    "path = r'../data/Dados Solução Casting.xlsx'\n",
    "df = pd.read_excel(\n",
    "    io=path\n",
    ")"
   ]
  },
  {
   "cell_type": "code",
   "execution_count": 32,
   "metadata": {},
   "outputs": [
    {
     "data": {
      "text/html": [
       "<div>\n",
       "<style scoped>\n",
       "    .dataframe tbody tr th:only-of-type {\n",
       "        vertical-align: middle;\n",
       "    }\n",
       "\n",
       "    .dataframe tbody tr th {\n",
       "        vertical-align: top;\n",
       "    }\n",
       "\n",
       "    .dataframe thead th {\n",
       "        text-align: right;\n",
       "    }\n",
       "</style>\n",
       "<table border=\"1\" class=\"dataframe\">\n",
       "  <thead>\n",
       "    <tr style=\"text-align: right;\">\n",
       "      <th></th>\n",
       "      <th>VUF_CODIGO</th>\n",
       "      <th>VUF_CODIGO_BOLETO</th>\n",
       "      <th>UND_CODIGO</th>\n",
       "      <th>FUN_CODIGO</th>\n",
       "      <th>VUF_DT</th>\n",
       "      <th>PRO_CODIGO</th>\n",
       "      <th>CAT_CODIGO</th>\n",
       "      <th>VUF_QTBOLETO</th>\n",
       "      <th>VUF_QTPRODUTO</th>\n",
       "      <th>VUF_VLRBRUTOVENDA</th>\n",
       "      <th>VUF_VLRDESCONTO</th>\n",
       "      <th>VUF_VLRLIQFINAL</th>\n",
       "      <th>VUF_VLRTROCA</th>\n",
       "      <th>CLV_BANCO</th>\n",
       "    </tr>\n",
       "  </thead>\n",
       "  <tbody>\n",
       "    <tr>\n",
       "      <th>0</th>\n",
       "      <td>B28DDB4B-8A49-4658-8539-5DA3F20AA39F</td>\n",
       "      <td>1000</td>\n",
       "      <td>D4758B39-E7EA-4D97-B6B1-6236CE2C05A2</td>\n",
       "      <td>BBEF56E1-66E0-47A6-95AC-5479DE79577B</td>\n",
       "      <td>2022-06-18</td>\n",
       "      <td>6768760F-758A-4B31-AE33-CEB127A956CB</td>\n",
       "      <td>7B6AD9C1-F745-4137-B62D-4A67E865E781</td>\n",
       "      <td>1</td>\n",
       "      <td>1.0</td>\n",
       "      <td>15.0</td>\n",
       "      <td>0.0</td>\n",
       "      <td>15.0</td>\n",
       "      <td>0.0</td>\n",
       "      <td>CASTING_DB108</td>\n",
       "    </tr>\n",
       "    <tr>\n",
       "      <th>1</th>\n",
       "      <td>8E22E8FC-65DC-44BA-AFFA-4D661108F0B4</td>\n",
       "      <td>1001</td>\n",
       "      <td>D4758B39-E7EA-4D97-B6B1-6236CE2C05A2</td>\n",
       "      <td>AF858E1C-9C72-4B63-AC51-A8185ECCCC35</td>\n",
       "      <td>2022-06-18</td>\n",
       "      <td>0136ECF4-9F4D-4DBE-A78D-B2ED565CE60C</td>\n",
       "      <td>7B6AD9C1-F745-4137-B62D-4A67E865E781</td>\n",
       "      <td>1</td>\n",
       "      <td>1.0</td>\n",
       "      <td>32.0</td>\n",
       "      <td>0.0</td>\n",
       "      <td>32.0</td>\n",
       "      <td>0.0</td>\n",
       "      <td>CASTING_DB108</td>\n",
       "    </tr>\n",
       "  </tbody>\n",
       "</table>\n",
       "</div>"
      ],
      "text/plain": [
       "                             VUF_CODIGO VUF_CODIGO_BOLETO  \\\n",
       "0  B28DDB4B-8A49-4658-8539-5DA3F20AA39F              1000   \n",
       "1  8E22E8FC-65DC-44BA-AFFA-4D661108F0B4              1001   \n",
       "\n",
       "                             UND_CODIGO                            FUN_CODIGO  \\\n",
       "0  D4758B39-E7EA-4D97-B6B1-6236CE2C05A2  BBEF56E1-66E0-47A6-95AC-5479DE79577B   \n",
       "1  D4758B39-E7EA-4D97-B6B1-6236CE2C05A2  AF858E1C-9C72-4B63-AC51-A8185ECCCC35   \n",
       "\n",
       "       VUF_DT                            PRO_CODIGO  \\\n",
       "0  2022-06-18  6768760F-758A-4B31-AE33-CEB127A956CB   \n",
       "1  2022-06-18  0136ECF4-9F4D-4DBE-A78D-B2ED565CE60C   \n",
       "\n",
       "                             CAT_CODIGO  VUF_QTBOLETO  VUF_QTPRODUTO  \\\n",
       "0  7B6AD9C1-F745-4137-B62D-4A67E865E781             1            1.0   \n",
       "1  7B6AD9C1-F745-4137-B62D-4A67E865E781             1            1.0   \n",
       "\n",
       "   VUF_VLRBRUTOVENDA  VUF_VLRDESCONTO  VUF_VLRLIQFINAL  VUF_VLRTROCA  \\\n",
       "0               15.0              0.0             15.0           0.0   \n",
       "1               32.0              0.0             32.0           0.0   \n",
       "\n",
       "       CLV_BANCO  \n",
       "0  CASTING_DB108  \n",
       "1  CASTING_DB108  "
      ]
     },
     "execution_count": 32,
     "metadata": {},
     "output_type": "execute_result"
    }
   ],
   "source": [
    "df.head(2)"
   ]
  },
  {
   "cell_type": "markdown",
   "metadata": {},
   "source": [
    "## Código:"
   ]
  },
  {
   "cell_type": "code",
   "execution_count": 33,
   "metadata": {},
   "outputs": [],
   "source": [
    "class Casting():\n",
    "    pass\n",
    "\n",
    "if __name__ == '__main__':\n",
    "    casting = Casting()"
   ]
  },
  {
   "cell_type": "markdown",
   "metadata": {},
   "source": [
    "### Preparação dos dados:"
   ]
  },
  {
   "cell_type": "code",
   "execution_count": 34,
   "metadata": {},
   "outputs": [
    {
     "data": {
      "text/plain": [
       "['VUF_CODIGO',\n",
       " 'VUF_CODIGO_BOLETO',\n",
       " 'UND_CODIGO',\n",
       " 'FUN_CODIGO',\n",
       " 'VUF_DT',\n",
       " 'PRO_CODIGO',\n",
       " 'CAT_CODIGO',\n",
       " 'VUF_QTBOLETO',\n",
       " 'VUF_QTPRODUTO',\n",
       " 'VUF_VLRBRUTOVENDA',\n",
       " 'VUF_VLRDESCONTO',\n",
       " 'VUF_VLRLIQFINAL',\n",
       " 'VUF_VLRTROCA',\n",
       " 'CLV_BANCO']"
      ]
     },
     "execution_count": 34,
     "metadata": {},
     "output_type": "execute_result"
    }
   ],
   "source": [
    "list(df.columns)"
   ]
  },
  {
   "cell_type": "markdown",
   "metadata": {},
   "source": [
    "### Segmentando o Dataframe por clientes:"
   ]
  },
  {
   "cell_type": "code",
   "execution_count": 35,
   "metadata": {},
   "outputs": [],
   "source": [
    "for cliente in set(df['CLV_BANCO']):\n",
    "    temp = df[df.CLV_BANCO == cliente]\n",
    "    temp.to_csv(f'../data/dataset_{cliente}.csv', index=False)"
   ]
  }
 ],
 "metadata": {
  "kernelspec": {
   "display_name": ".venv",
   "language": "python",
   "name": "python3"
  },
  "language_info": {
   "codemirror_mode": {
    "name": "ipython",
    "version": 3
   },
   "file_extension": ".py",
   "mimetype": "text/x-python",
   "name": "python",
   "nbconvert_exporter": "python",
   "pygments_lexer": "ipython3",
   "version": "3.10.12"
  }
 },
 "nbformat": 4,
 "nbformat_minor": 2
}
